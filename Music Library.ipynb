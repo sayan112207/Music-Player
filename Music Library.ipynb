{
 "cells": [
  {
   "cell_type": "code",
   "execution_count": 1,
   "id": "cc34c23f",
   "metadata": {},
   "outputs": [
    {
     "name": "stdout",
     "output_type": "stream",
     "text": [
      "Collecting pygame\n",
      "  Downloading pygame-2.1.2-cp39-cp39-win_amd64.whl (8.4 MB)\n",
      "     ---------------------------------------- 8.4/8.4 MB 3.6 MB/s eta 0:00:00\n",
      "Installing collected packages: pygame\n",
      "Successfully installed pygame-2.1.2\n"
     ]
    }
   ],
   "source": [
    "!pip install pygame"
   ]
  },
  {
   "cell_type": "code",
   "execution_count": 6,
   "id": "1214ebf3",
   "metadata": {},
   "outputs": [],
   "source": [
    "#How to load, play, pause and unpause audio file\n",
    "from pygame import mixer\n",
    "\n",
    "mixer.init() #Initializing pygame mixer\n",
    "\n",
    "mixer.music.load('Hozier – Someone New.mp3') #loading audio file\n",
    "\n",
    "mixer.music.play() #Playing Music with Pygame"
   ]
  },
  {
   "cell_type": "code",
   "execution_count": 7,
   "id": "18af7dfa",
   "metadata": {},
   "outputs": [],
   "source": [
    "mixer.music.stop() #To stop the background music"
   ]
  },
  {
   "cell_type": "markdown",
   "id": "168e89fc",
   "metadata": {},
   "source": [
    "## Music Player"
   ]
  },
  {
   "cell_type": "code",
   "execution_count": 9,
   "id": "b60dae0e",
   "metadata": {},
   "outputs": [],
   "source": [
    "from tkinter import *\n",
    "from tkinter import filedialog\n",
    "from pygame import mixer\n",
    "\n",
    "class Player:\n",
    "    def __init__(self,window):\n",
    "        window.geometry('320x100'); window.title('Python Music Player'); window.resizable(0,0)\n",
    "        Load = Button(window, text = 'Load', width=10, font=('Times',10), command=self.load)\n",
    "        Play = Button(window, text = 'Play', width=10, font=('Times',10), command=self.play)\n",
    "        Pause= Button(window, text ='Pause', width=10, font=('Times',10), command=self.pause)\n",
    "        Stop = Button(window, text = 'Stop', width=10, font=('Times',10), command=self.stop)\n",
    "        Load.place(x=0,y=20); Play.place(x=110,y=20); Pause.place(x=220,y=20); Stop.place(x=110,y=60)\n",
    "        self.music_file = False\n",
    "        self.playing_state = False\n",
    "    def load(self):\n",
    "        self.music_file = filedialog.askopenfilename()\n",
    "    def play(self):\n",
    "        if self.music_file:\n",
    "            mixer.init()\n",
    "            mixer.music.load(self.music_file)\n",
    "            mixer.music.play()\n",
    "    def pause(self):\n",
    "        if not self.playing_state:\n",
    "            mixer.music.pause()\n",
    "            self.playing_state=True\n",
    "        else:\n",
    "            mixer.music.unpause()\n",
    "            self.playing_state=False\n",
    "    def stop(self):\n",
    "        mixer.music.stop()\n",
    "\n",
    "new_root=Tk()\n",
    "player_app = Player(new_root)\n",
    "new_root.mainloop()"
   ]
  }
 ],
 "metadata": {
  "kernelspec": {
   "display_name": "Python 3 (ipykernel)",
   "language": "python",
   "name": "python3"
  },
  "language_info": {
   "codemirror_mode": {
    "name": "ipython",
    "version": 3
   },
   "file_extension": ".py",
   "mimetype": "text/x-python",
   "name": "python",
   "nbconvert_exporter": "python",
   "pygments_lexer": "ipython3",
   "version": "3.9.13"
  }
 },
 "nbformat": 4,
 "nbformat_minor": 5
}
